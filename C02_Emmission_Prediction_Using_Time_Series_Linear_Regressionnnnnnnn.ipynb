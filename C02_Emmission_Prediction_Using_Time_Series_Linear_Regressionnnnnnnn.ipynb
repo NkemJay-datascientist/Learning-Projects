{
 "cells": [
  {
   "cell_type": "code",
   "execution_count": 1,
   "id": "9e9ac385",
   "metadata": {},
   "outputs": [],
   "source": [
    "import pandas as pd\n",
    "from sklearn.linear_model import LinearRegression\n",
    "import numpy as np\n",
    "from sklearn.model_selection import train_test_split\n",
    "from sklearn.metrics import mean_absolute_error, mean_squared_error\n",
    "from sklearn.metrics import r2_score"
   ]
  },
  {
   "cell_type": "code",
   "execution_count": 17,
   "id": "77f0bc05",
   "metadata": {},
   "outputs": [
    {
     "data": {
      "text/html": [
       "<div>\n",
       "<style scoped>\n",
       "    .dataframe tbody tr th:only-of-type {\n",
       "        vertical-align: middle;\n",
       "    }\n",
       "\n",
       "    .dataframe tbody tr th {\n",
       "        vertical-align: top;\n",
       "    }\n",
       "\n",
       "    .dataframe thead th {\n",
       "        text-align: right;\n",
       "    }\n",
       "</style>\n",
       "<table border=\"1\" class=\"dataframe\">\n",
       "  <thead>\n",
       "    <tr style=\"text-align: right;\">\n",
       "      <th></th>\n",
       "      <th>date_surveyed</th>\n",
       "      <th>daily_co2_emmission</th>\n",
       "      <th>Area_Surveyed</th>\n",
       "    </tr>\n",
       "  </thead>\n",
       "  <tbody>\n",
       "    <tr>\n",
       "      <th>0</th>\n",
       "      <td>05-06-2022</td>\n",
       "      <td>0.000369</td>\n",
       "      <td>Mile 3</td>\n",
       "    </tr>\n",
       "    <tr>\n",
       "      <th>1</th>\n",
       "      <td>06-06-2022</td>\n",
       "      <td>0.000493</td>\n",
       "      <td>Mile 3</td>\n",
       "    </tr>\n",
       "    <tr>\n",
       "      <th>2</th>\n",
       "      <td>07-06-2022</td>\n",
       "      <td>0.000475</td>\n",
       "      <td>Mile 3</td>\n",
       "    </tr>\n",
       "    <tr>\n",
       "      <th>3</th>\n",
       "      <td>08-06-2022</td>\n",
       "      <td>0.000541</td>\n",
       "      <td>Mile 3</td>\n",
       "    </tr>\n",
       "    <tr>\n",
       "      <th>4</th>\n",
       "      <td>09-06-2022</td>\n",
       "      <td>0.000517</td>\n",
       "      <td>Mile 3</td>\n",
       "    </tr>\n",
       "    <tr>\n",
       "      <th>...</th>\n",
       "      <td>...</td>\n",
       "      <td>...</td>\n",
       "      <td>...</td>\n",
       "    </tr>\n",
       "    <tr>\n",
       "      <th>804</th>\n",
       "      <td>12-08-2022</td>\n",
       "      <td>0.108655</td>\n",
       "      <td>Choba Junction</td>\n",
       "    </tr>\n",
       "    <tr>\n",
       "      <th>805</th>\n",
       "      <td>13-08-2022</td>\n",
       "      <td>0.101236</td>\n",
       "      <td>Choba Junction</td>\n",
       "    </tr>\n",
       "    <tr>\n",
       "      <th>806</th>\n",
       "      <td>14-08-2022</td>\n",
       "      <td>0.105978</td>\n",
       "      <td>Choba Junction</td>\n",
       "    </tr>\n",
       "    <tr>\n",
       "      <th>807</th>\n",
       "      <td>15-08-2022</td>\n",
       "      <td>0.098942</td>\n",
       "      <td>Choba Junction</td>\n",
       "    </tr>\n",
       "    <tr>\n",
       "      <th>808</th>\n",
       "      <td>16-08-2022</td>\n",
       "      <td>0.104669</td>\n",
       "      <td>Choba Junction</td>\n",
       "    </tr>\n",
       "  </tbody>\n",
       "</table>\n",
       "<p>809 rows × 3 columns</p>\n",
       "</div>"
      ],
      "text/plain": [
       "    date_surveyed  daily_co2_emmission   Area_Surveyed\n",
       "0      05-06-2022             0.000369          Mile 3\n",
       "1      06-06-2022             0.000493          Mile 3\n",
       "2      07-06-2022             0.000475          Mile 3\n",
       "3      08-06-2022             0.000541          Mile 3\n",
       "4      09-06-2022             0.000517          Mile 3\n",
       "..            ...                  ...             ...\n",
       "804    12-08-2022             0.108655  Choba Junction\n",
       "805    13-08-2022             0.101236  Choba Junction\n",
       "806    14-08-2022             0.105978  Choba Junction\n",
       "807    15-08-2022             0.098942  Choba Junction\n",
       "808    16-08-2022             0.104669  Choba Junction\n",
       "\n",
       "[809 rows x 3 columns]"
      ]
     },
     "execution_count": 17,
     "metadata": {},
     "output_type": "execute_result"
    }
   ],
   "source": [
    "df = pd.read_csv(\"C:/Users/user/Desktop/Data science class/dataset_emmission.csv\")\n",
    "df"
   ]
  },
  {
   "cell_type": "code",
   "execution_count": 11,
   "id": "aae6f42b",
   "metadata": {},
   "outputs": [
    {
     "data": {
      "text/html": [
       "<div>\n",
       "<style scoped>\n",
       "    .dataframe tbody tr th:only-of-type {\n",
       "        vertical-align: middle;\n",
       "    }\n",
       "\n",
       "    .dataframe tbody tr th {\n",
       "        vertical-align: top;\n",
       "    }\n",
       "\n",
       "    .dataframe thead th {\n",
       "        text-align: right;\n",
       "    }\n",
       "</style>\n",
       "<table border=\"1\" class=\"dataframe\">\n",
       "  <thead>\n",
       "    <tr style=\"text-align: right;\">\n",
       "      <th></th>\n",
       "      <th>date_surveyed</th>\n",
       "      <th>daily_co2_emmission</th>\n",
       "      <th>Area_Surveyed</th>\n",
       "    </tr>\n",
       "  </thead>\n",
       "  <tbody>\n",
       "    <tr>\n",
       "      <th>205</th>\n",
       "      <td>16-10-2022</td>\n",
       "      <td>0.022815</td>\n",
       "      <td>Rumuola</td>\n",
       "    </tr>\n",
       "    <tr>\n",
       "      <th>206</th>\n",
       "      <td>17-10-2022</td>\n",
       "      <td>0.022325</td>\n",
       "      <td>Rumuola</td>\n",
       "    </tr>\n",
       "    <tr>\n",
       "      <th>207</th>\n",
       "      <td>18-10-2022</td>\n",
       "      <td>0.023642</td>\n",
       "      <td>Rumuola</td>\n",
       "    </tr>\n",
       "    <tr>\n",
       "      <th>208</th>\n",
       "      <td>19-10-2022</td>\n",
       "      <td>0.021800</td>\n",
       "      <td>Rumuola</td>\n",
       "    </tr>\n",
       "    <tr>\n",
       "      <th>209</th>\n",
       "      <td>20-10-2022</td>\n",
       "      <td>0.021588</td>\n",
       "      <td>Rumuola</td>\n",
       "    </tr>\n",
       "  </tbody>\n",
       "</table>\n",
       "</div>"
      ],
      "text/plain": [
       "    date_surveyed  daily_co2_emmission Area_Surveyed\n",
       "205    16-10-2022             0.022815       Rumuola\n",
       "206    17-10-2022             0.022325       Rumuola\n",
       "207    18-10-2022             0.023642       Rumuola\n",
       "208    19-10-2022             0.021800       Rumuola\n",
       "209    20-10-2022             0.021588       Rumuola"
      ]
     },
     "execution_count": 11,
     "metadata": {},
     "output_type": "execute_result"
    }
   ],
   "source": [
    "df[df[\"Area_Surveyed\"] == 'Rumuola'].tail()"
   ]
  },
  {
   "cell_type": "code",
   "execution_count": 12,
   "id": "4f237f68",
   "metadata": {},
   "outputs": [
    {
     "data": {
      "text/plain": [
       "array(['Mile 3', 'Rumuola', 'Garrison', 'Artillery', 'Borikiri', 'Mile 1',\n",
       "       'Eleme Junction', 'Choba Junction'], dtype=object)"
      ]
     },
     "execution_count": 12,
     "metadata": {},
     "output_type": "execute_result"
    }
   ],
   "source": [
    "df[\"Area_Surveyed\"].unique()"
   ]
  },
  {
   "cell_type": "code",
   "execution_count": 18,
   "id": "ede16fd2",
   "metadata": {},
   "outputs": [],
   "source": [
    "day_val = []\n",
    "month_val = []\n",
    "year_val = []\n",
    "for i in df[\"date_surveyed\"].values:\n",
    "    day = i.split(\"-\")[0]\n",
    "    month = i.split(\"-\")[1]\n",
    "    year = i.split(\"-\")[2]\n",
    "    day_val.append(day)\n",
    "    month_val.append(month)\n",
    "    year_val.append(year)\n",
    "df[\"Day\"] = day_val\n",
    "df[\"Month\"] = month_val\n",
    "df[\"Year\"] = year_val"
   ]
  },
  {
   "cell_type": "code",
   "execution_count": 23,
   "id": "e0e308da",
   "metadata": {},
   "outputs": [
    {
     "data": {
      "text/html": [
       "<div>\n",
       "<style scoped>\n",
       "    .dataframe tbody tr th:only-of-type {\n",
       "        vertical-align: middle;\n",
       "    }\n",
       "\n",
       "    .dataframe tbody tr th {\n",
       "        vertical-align: top;\n",
       "    }\n",
       "\n",
       "    .dataframe thead th {\n",
       "        text-align: right;\n",
       "    }\n",
       "</style>\n",
       "<table border=\"1\" class=\"dataframe\">\n",
       "  <thead>\n",
       "    <tr style=\"text-align: right;\">\n",
       "      <th></th>\n",
       "      <th>date_surveyed</th>\n",
       "      <th>daily_co2_emmission</th>\n",
       "      <th>Area_Surveyed</th>\n",
       "      <th>Day</th>\n",
       "      <th>Month</th>\n",
       "      <th>Year</th>\n",
       "      <th>date</th>\n",
       "    </tr>\n",
       "  </thead>\n",
       "  <tbody>\n",
       "    <tr>\n",
       "      <th>0</th>\n",
       "      <td>05-06-2022</td>\n",
       "      <td>0.000369</td>\n",
       "      <td>Mile 3</td>\n",
       "      <td>05</td>\n",
       "      <td>06</td>\n",
       "      <td>2022</td>\n",
       "      <td>2022-06-05</td>\n",
       "    </tr>\n",
       "    <tr>\n",
       "      <th>1</th>\n",
       "      <td>06-06-2022</td>\n",
       "      <td>0.000493</td>\n",
       "      <td>Mile 3</td>\n",
       "      <td>06</td>\n",
       "      <td>06</td>\n",
       "      <td>2022</td>\n",
       "      <td>2022-06-06</td>\n",
       "    </tr>\n",
       "    <tr>\n",
       "      <th>2</th>\n",
       "      <td>07-06-2022</td>\n",
       "      <td>0.000475</td>\n",
       "      <td>Mile 3</td>\n",
       "      <td>07</td>\n",
       "      <td>06</td>\n",
       "      <td>2022</td>\n",
       "      <td>2022-06-07</td>\n",
       "    </tr>\n",
       "    <tr>\n",
       "      <th>3</th>\n",
       "      <td>08-06-2022</td>\n",
       "      <td>0.000541</td>\n",
       "      <td>Mile 3</td>\n",
       "      <td>08</td>\n",
       "      <td>06</td>\n",
       "      <td>2022</td>\n",
       "      <td>2022-06-08</td>\n",
       "    </tr>\n",
       "    <tr>\n",
       "      <th>4</th>\n",
       "      <td>09-06-2022</td>\n",
       "      <td>0.000517</td>\n",
       "      <td>Mile 3</td>\n",
       "      <td>09</td>\n",
       "      <td>06</td>\n",
       "      <td>2022</td>\n",
       "      <td>2022-06-09</td>\n",
       "    </tr>\n",
       "  </tbody>\n",
       "</table>\n",
       "</div>"
      ],
      "text/plain": [
       "  date_surveyed  daily_co2_emmission Area_Surveyed Day Month  Year       date\n",
       "0    05-06-2022             0.000369        Mile 3  05    06  2022 2022-06-05\n",
       "1    06-06-2022             0.000493        Mile 3  06    06  2022 2022-06-06\n",
       "2    07-06-2022             0.000475        Mile 3  07    06  2022 2022-06-07\n",
       "3    08-06-2022             0.000541        Mile 3  08    06  2022 2022-06-08\n",
       "4    09-06-2022             0.000517        Mile 3  09    06  2022 2022-06-09"
      ]
     },
     "execution_count": 23,
     "metadata": {},
     "output_type": "execute_result"
    }
   ],
   "source": [
    "df.head()"
   ]
  },
  {
   "cell_type": "code",
   "execution_count": 20,
   "id": "c859709d",
   "metadata": {},
   "outputs": [
    {
     "name": "stdout",
     "output_type": "stream",
     "text": [
      "<class 'pandas.core.frame.DataFrame'>\n",
      "RangeIndex: 809 entries, 0 to 808\n",
      "Data columns (total 6 columns):\n",
      " #   Column               Non-Null Count  Dtype  \n",
      "---  ------               --------------  -----  \n",
      " 0   date_surveyed        809 non-null    object \n",
      " 1   daily_co2_emmission  809 non-null    float64\n",
      " 2   Area_Surveyed        809 non-null    object \n",
      " 3   Day                  809 non-null    object \n",
      " 4   Month                809 non-null    object \n",
      " 5   Year                 809 non-null    object \n",
      "dtypes: float64(1), object(5)\n",
      "memory usage: 38.1+ KB\n"
     ]
    }
   ],
   "source": [
    "df.info()"
   ]
  },
  {
   "cell_type": "code",
   "execution_count": 21,
   "id": "ce3e5380",
   "metadata": {},
   "outputs": [
    {
     "data": {
      "text/html": [
       "<div>\n",
       "<style scoped>\n",
       "    .dataframe tbody tr th:only-of-type {\n",
       "        vertical-align: middle;\n",
       "    }\n",
       "\n",
       "    .dataframe tbody tr th {\n",
       "        vertical-align: top;\n",
       "    }\n",
       "\n",
       "    .dataframe thead th {\n",
       "        text-align: right;\n",
       "    }\n",
       "</style>\n",
       "<table border=\"1\" class=\"dataframe\">\n",
       "  <thead>\n",
       "    <tr style=\"text-align: right;\">\n",
       "      <th></th>\n",
       "      <th>date_surveyed</th>\n",
       "      <th>daily_co2_emmission</th>\n",
       "      <th>Area_Surveyed</th>\n",
       "      <th>Day</th>\n",
       "      <th>Month</th>\n",
       "      <th>Year</th>\n",
       "      <th>date</th>\n",
       "    </tr>\n",
       "  </thead>\n",
       "  <tbody>\n",
       "    <tr>\n",
       "      <th>0</th>\n",
       "      <td>05-06-2022</td>\n",
       "      <td>0.000369</td>\n",
       "      <td>Mile 3</td>\n",
       "      <td>05</td>\n",
       "      <td>06</td>\n",
       "      <td>2022</td>\n",
       "      <td>2022-06-05</td>\n",
       "    </tr>\n",
       "    <tr>\n",
       "      <th>1</th>\n",
       "      <td>06-06-2022</td>\n",
       "      <td>0.000493</td>\n",
       "      <td>Mile 3</td>\n",
       "      <td>06</td>\n",
       "      <td>06</td>\n",
       "      <td>2022</td>\n",
       "      <td>2022-06-06</td>\n",
       "    </tr>\n",
       "    <tr>\n",
       "      <th>2</th>\n",
       "      <td>07-06-2022</td>\n",
       "      <td>0.000475</td>\n",
       "      <td>Mile 3</td>\n",
       "      <td>07</td>\n",
       "      <td>06</td>\n",
       "      <td>2022</td>\n",
       "      <td>2022-06-07</td>\n",
       "    </tr>\n",
       "    <tr>\n",
       "      <th>3</th>\n",
       "      <td>08-06-2022</td>\n",
       "      <td>0.000541</td>\n",
       "      <td>Mile 3</td>\n",
       "      <td>08</td>\n",
       "      <td>06</td>\n",
       "      <td>2022</td>\n",
       "      <td>2022-06-08</td>\n",
       "    </tr>\n",
       "    <tr>\n",
       "      <th>4</th>\n",
       "      <td>09-06-2022</td>\n",
       "      <td>0.000517</td>\n",
       "      <td>Mile 3</td>\n",
       "      <td>09</td>\n",
       "      <td>06</td>\n",
       "      <td>2022</td>\n",
       "      <td>2022-06-09</td>\n",
       "    </tr>\n",
       "  </tbody>\n",
       "</table>\n",
       "</div>"
      ],
      "text/plain": [
       "  date_surveyed  daily_co2_emmission Area_Surveyed Day Month  Year       date\n",
       "0    05-06-2022             0.000369        Mile 3  05    06  2022 2022-06-05\n",
       "1    06-06-2022             0.000493        Mile 3  06    06  2022 2022-06-06\n",
       "2    07-06-2022             0.000475        Mile 3  07    06  2022 2022-06-07\n",
       "3    08-06-2022             0.000541        Mile 3  08    06  2022 2022-06-08\n",
       "4    09-06-2022             0.000517        Mile 3  09    06  2022 2022-06-09"
      ]
     },
     "execution_count": 21,
     "metadata": {},
     "output_type": "execute_result"
    }
   ],
   "source": [
    "df[\"date\"] = pd.to_datetime(df[\"Year\"] + \"-\" + df[\"Month\"] + \"-\" + df[\"Day\"])\n",
    "df.head()"
   ]
  },
  {
   "cell_type": "code",
   "execution_count": 8,
   "id": "a762351a",
   "metadata": {},
   "outputs": [],
   "source": [
    "def get_area_surveyed(area, df):\n",
    "    data_vals = df[df[\"Area_Surveyed\"] == area]\n",
    "    new_df_vals = data_vals.drop([\"Area_Surveyed\",\"date_surveyed\", \"Month\",\"Year\"], axis=1)\n",
    "    return new_df_vals\n",
    "\n",
    "\n",
    "\n",
    "\n",
    "def linear_reg_(new_df_vals):\n",
    "    target = new_df_vals.drop([\"date\",\"daily_co2_emmission\"], axis=1)\n",
    "    predictor = new_df_vals[\"daily_co2_emmission\"]\n",
    "    times =  target         \n",
    "    values = predictor\n",
    "    # Reshape the data into a 2D array\n",
    "    X = times\n",
    "    y = values\n",
    "    X_train, X_test, y_train, y_test = train_test_split(X, y, test_size=0.2)\n",
    "    model = LinearRegression()\n",
    "    model.fit(X_train, y_train)\n",
    "    y_pred = model.predict(X_test)\n",
    "    mae = mean_absolute_error(y_test, y_pred)\n",
    "    mse = mean_squared_error(y_test, y_pred)\n",
    "    rmse = np.sqrt(mse)\n",
    "    r2_sc = r2_score(y_test, y_pred)\n",
    "    intercept = model.intercept_\n",
    "    coefficients = model.coef_\n",
    "    print(\"Mean Absolute Error: \", mae)\n",
    "    print(\"Mean Squared Error: \", mse)\n",
    "    print(\"Root Mean Squared Error: \", rmse)\n",
    "    print(\"R2_score: \", r2_sc)\n",
    "    print(\"Intercept: \", intercept)\n",
    "    print(\"Coefficients: \", coefficients)\n",
    "    \n",
    "\n",
    "\n",
    "    \n",
    "def pred_linear_reg_(new_df_vals, start_date, end_date):\n",
    "    target = new_df_vals.drop([\"date\",\"daily_co2_emmission\"], axis=1)\n",
    "    predictor = new_df_vals[\"daily_co2_emmission\"]\n",
    "    times =  target         \n",
    "    values = predictor\n",
    "    # Reshape the data into a 2D array\n",
    "    X = times\n",
    "    y = values\n",
    "    X_train, X_test, y_train, y_test = train_test_split(X, y, test_size=0.2)\n",
    "    model = LinearRegression()\n",
    "    model.fit(X_train, y_train)\n",
    "\n",
    "    date_range = pd.date_range(start=start_date, end=end_date, freq='D')\n",
    "    date_cols = pd.DataFrame(date_range, columns=[\"date\"])\n",
    "    day_val = date_cols[\"date\"].dt.day.values\n",
    "    array_pred = [model.predict([[i]]) for i in day_val]\n",
    "    df_pred = pd.DataFrame(array_pred, columns=[\"daily_co2_emmission\"])\n",
    "    pred_df = pd.concat([date_cols, df_pred], axis=1)\n",
    "    return pred_df\n",
    "\n",
    "def plot_pred(new_df_vals, pred_df):\n",
    "    df = new_df_vals[[\"date\", \"daily_co2_emmission\"]]\n",
    "    df_plot = df.append(pred_df)\n",
    "    print(pred_df)\n",
    "    plot_data = df_plot.reset_index().drop(\"index\", axis=1)\n",
    "    plot_data.plot(x=\"date\", y=\"daily_co2_emmission\", kind=\"line\")"
   ]
  },
  {
   "cell_type": "markdown",
   "id": "19b9c93c",
   "metadata": {},
   "source": [
    "#### Location One"
   ]
  },
  {
   "cell_type": "code",
   "execution_count": 9,
   "id": "920f309c",
   "metadata": {},
   "outputs": [
    {
     "name": "stdout",
     "output_type": "stream",
     "text": [
      "Mean Absolute Error:  0.00021817478941113424\n",
      "Mean Squared Error:  7.845263233304163e-08\n",
      "Root Mean Squared Error:  0.00028009397054031996\n",
      "R2_score:  -0.0407447240499581\n",
      "Intercept:  0.0009231112598707923\n",
      "Coefficients:  [-2.29654274e-06]\n"
     ]
    },
    {
     "name": "stderr",
     "output_type": "stream",
     "text": [
      "C:\\Users\\LALAECO SUPER GLOBAL\\anaconda3\\lib\\site-packages\\sklearn\\base.py:450: UserWarning: X does not have valid feature names, but LinearRegression was fitted with feature names\n",
      "  warnings.warn(\n",
      "C:\\Users\\LALAECO SUPER GLOBAL\\anaconda3\\lib\\site-packages\\sklearn\\base.py:450: UserWarning: X does not have valid feature names, but LinearRegression was fitted with feature names\n",
      "  warnings.warn(\n",
      "C:\\Users\\LALAECO SUPER GLOBAL\\anaconda3\\lib\\site-packages\\sklearn\\base.py:450: UserWarning: X does not have valid feature names, but LinearRegression was fitted with feature names\n",
      "  warnings.warn(\n",
      "C:\\Users\\LALAECO SUPER GLOBAL\\anaconda3\\lib\\site-packages\\sklearn\\base.py:450: UserWarning: X does not have valid feature names, but LinearRegression was fitted with feature names\n",
      "  warnings.warn(\n",
      "C:\\Users\\LALAECO SUPER GLOBAL\\anaconda3\\lib\\site-packages\\sklearn\\base.py:450: UserWarning: X does not have valid feature names, but LinearRegression was fitted with feature names\n",
      "  warnings.warn(\n",
      "C:\\Users\\LALAECO SUPER GLOBAL\\anaconda3\\lib\\site-packages\\sklearn\\base.py:450: UserWarning: X does not have valid feature names, but LinearRegression was fitted with feature names\n",
      "  warnings.warn(\n",
      "C:\\Users\\LALAECO SUPER GLOBAL\\AppData\\Local\\Temp\\ipykernel_11932\\2568921566.py:59: FutureWarning: The frame.append method is deprecated and will be removed from pandas in a future version. Use pandas.concat instead.\n",
      "  df_plot = df.append(pred_df)\n"
     ]
    },
    {
     "name": "stdout",
     "output_type": "stream",
     "text": [
      "        date  daily_co2_emmission\n",
      "0 2022-08-16             0.000865\n",
      "1 2022-08-17             0.000865\n",
      "2 2022-08-18             0.000865\n",
      "3 2022-08-19             0.000865\n",
      "4 2022-08-20             0.000865\n",
      "5 2022-08-21             0.000865\n",
      "None\n"
     ]
    },
    {
     "data": {
      "image/png": "[encoded data removed]",
      "text/plain": [
       "<Figure size 432x288 with 1 Axes>"
      ]
     },
     "metadata": {
      "needs_background": "light"
     },
     "output_type": "display_data"
    }
   ],
   "source": [
    "location = \"Mile 3\"\n",
    "area_data = get_area_surveyed(area=location, df=df)\n",
    "lr = linear_reg_(new_df_vals=area_data)\n",
    "pred_vals = pred_linear_reg_(new_df_vals=area_data, start_date='2022-08-16', end_date='2022-08-21')\n",
    "plot_pred(new_df_vals=area_data, pred_df=pred_vals)\n",
    "print(lr)\n"
   ]
  },
  {
   "cell_type": "markdown",
   "id": "8fa52f7a",
   "metadata": {},
   "source": [
    "#### Location Two"
   ]
  },
  {
   "cell_type": "code",
   "execution_count": 12,
   "id": "b80a6c73",
   "metadata": {},
   "outputs": [
    {
     "name": "stdout",
     "output_type": "stream",
     "text": [
      "Mean Absolute Error:  0.00961930449480653\n",
      "Mean Squared Error:  0.0001107255489387796\n",
      "Root Mean Squared Error:  0.010522620820821189\n",
      "R2_score:  -0.06485651292434724\n",
      "Intercept:  0.016818524396686022\n",
      "Coefficients:  [-9.69160342e-05]\n",
      "        date  daily_co2_emmission\n",
      "0 2022-08-21             0.015115\n",
      "1 2022-08-22             0.015113\n",
      "2 2022-08-23             0.015110\n",
      "3 2022-08-24             0.015108\n",
      "4 2022-08-25             0.015106\n",
      "5 2022-08-26             0.015104\n"
     ]
    },
    {
     "name": "stderr",
     "output_type": "stream",
     "text": [
      "C:\\Users\\LALAECO SUPER GLOBAL\\anaconda3\\lib\\site-packages\\sklearn\\base.py:450: UserWarning: X does not have valid feature names, but LinearRegression was fitted with feature names\n",
      "  warnings.warn(\n",
      "C:\\Users\\LALAECO SUPER GLOBAL\\anaconda3\\lib\\site-packages\\sklearn\\base.py:450: UserWarning: X does not have valid feature names, but LinearRegression was fitted with feature names\n",
      "  warnings.warn(\n",
      "C:\\Users\\LALAECO SUPER GLOBAL\\anaconda3\\lib\\site-packages\\sklearn\\base.py:450: UserWarning: X does not have valid feature names, but LinearRegression was fitted with feature names\n",
      "  warnings.warn(\n",
      "C:\\Users\\LALAECO SUPER GLOBAL\\anaconda3\\lib\\site-packages\\sklearn\\base.py:450: UserWarning: X does not have valid feature names, but LinearRegression was fitted with feature names\n",
      "  warnings.warn(\n",
      "C:\\Users\\LALAECO SUPER GLOBAL\\anaconda3\\lib\\site-packages\\sklearn\\base.py:450: UserWarning: X does not have valid feature names, but LinearRegression was fitted with feature names\n",
      "  warnings.warn(\n",
      "C:\\Users\\LALAECO SUPER GLOBAL\\anaconda3\\lib\\site-packages\\sklearn\\base.py:450: UserWarning: X does not have valid feature names, but LinearRegression was fitted with feature names\n",
      "  warnings.warn(\n",
      "C:\\Users\\LALAECO SUPER GLOBAL\\AppData\\Local\\Temp\\ipykernel_9880\\2568921566.py:59: FutureWarning: The frame.append method is deprecated and will be removed from pandas in a future version. Use pandas.concat instead.\n",
      "  df_plot = df.append(pred_df)\n"
     ]
    },
    {
     "name": "stdout",
     "output_type": "stream",
     "text": [
      "None\n"
     ]
    },
    {
     "data": {
      "image/png": "[encoded data removed]",
      "text/plain": [
       "<Figure size 432x288 with 1 Axes>"
      ]
     },
     "metadata": {
      "needs_background": "light"
     },
     "output_type": "display_data"
    }
   ],
   "source": [
    "location = 'Rumuola'\n",
    "area_data = get_area_surveyed(area=location, df=df)\n",
    "lr = linear_reg_(new_df_vals=area_data)\n",
    "pred_vals = pred_linear_reg_(new_df_vals=area_data, start_date='2022-08-21', end_date='2022-08-26')\n",
    "plot_pred(new_df_vals=area_data, pred_df=pred_vals)\n",
    "print(lr)"
   ]
  },
  {
   "cell_type": "code",
   "execution_count": 13,
   "id": "17a41292",
   "metadata": {},
   "outputs": [
    {
     "name": "stdout",
     "output_type": "stream",
     "text": [
      "Mean Absolute Error:  0.0004432369033882247\n",
      "Mean Squared Error:  2.789100265501063e-07\n",
      "Root Mean Squared Error:  0.0005281193298394846\n",
      "R2_score:  -0.06818036257945548\n",
      "Intercept:  0.0013277376231603075\n",
      "Coefficients:  [-2.05339996e-06]\n",
      "        date  daily_co2_emmission\n",
      "0 2022-08-08             0.001228\n",
      "1 2022-08-09             0.001234\n",
      "2 2022-08-10             0.001240\n",
      "3 2022-08-11             0.001246\n",
      "4 2022-08-12             0.001252\n",
      "5 2022-08-13             0.001258\n"
     ]
    },
    {
     "name": "stderr",
     "output_type": "stream",
     "text": [
      "C:\\Users\\LALAECO SUPER GLOBAL\\anaconda3\\lib\\site-packages\\sklearn\\base.py:450: UserWarning: X does not have valid feature names, but LinearRegression was fitted with feature names\n",
      "  warnings.warn(\n",
      "C:\\Users\\LALAECO SUPER GLOBAL\\anaconda3\\lib\\site-packages\\sklearn\\base.py:450: UserWarning: X does not have valid feature names, but LinearRegression was fitted with feature names\n",
      "  warnings.warn(\n",
      "C:\\Users\\LALAECO SUPER GLOBAL\\anaconda3\\lib\\site-packages\\sklearn\\base.py:450: UserWarning: X does not have valid feature names, but LinearRegression was fitted with feature names\n",
      "  warnings.warn(\n",
      "C:\\Users\\LALAECO SUPER GLOBAL\\anaconda3\\lib\\site-packages\\sklearn\\base.py:450: UserWarning: X does not have valid feature names, but LinearRegression was fitted with feature names\n",
      "  warnings.warn(\n",
      "C:\\Users\\LALAECO SUPER GLOBAL\\anaconda3\\lib\\site-packages\\sklearn\\base.py:450: UserWarning: X does not have valid feature names, but LinearRegression was fitted with feature names\n",
      "  warnings.warn(\n",
      "C:\\Users\\LALAECO SUPER GLOBAL\\anaconda3\\lib\\site-packages\\sklearn\\base.py:450: UserWarning: X does not have valid feature names, but LinearRegression was fitted with feature names\n",
      "  warnings.warn(\n",
      "C:\\Users\\LALAECO SUPER GLOBAL\\AppData\\Local\\Temp\\ipykernel_9880\\2568921566.py:59: FutureWarning: The frame.append method is deprecated and will be removed from pandas in a future version. Use pandas.concat instead.\n",
      "  df_plot = df.append(pred_df)\n"
     ]
    },
    {
     "data": {
      "image/png": "[encoded data removed]",
      "text/plain": [
       "<Figure size 432x288 with 1 Axes>"
      ]
     },
     "metadata": {
      "needs_background": "light"
     },
     "output_type": "display_data"
    }
   ],
   "source": [
    "location = 'Garrison'\n",
    "area_data = get_area_surveyed(area=location, df=df)\n",
    "lr = linear_reg_(new_df_vals=area_data)\n",
    "pred_vals = pred_linear_reg_(new_df_vals=area_data, start_date='2022-08-8', end_date='2022-08-13')\n",
    "plot_pred(new_df_vals=area_data, pred_df=pred_vals)\n",
    "lr"
   ]
  },
  {
   "cell_type": "code",
   "execution_count": 14,
   "id": "0a37a79d",
   "metadata": {},
   "outputs": [
    {
     "name": "stdout",
     "output_type": "stream",
     "text": [
      "Mean Absolute Error:  0.039211122904676446\n",
      "Mean Squared Error:  0.0020769866311613006\n",
      "Root Mean Squared Error:  0.04557396878878666\n",
      "R2_score:  0.26742434218230127\n",
      "Intercept:  0.07572227561010952\n",
      "Coefficients:  [0.00370817]\n",
      "        date  daily_co2_emmission\n",
      "0 2022-08-17             0.133866\n",
      "1 2022-08-18             0.137341\n",
      "2 2022-08-19             0.140816\n",
      "3 2022-08-20             0.144291\n",
      "4 2022-08-21             0.147766\n",
      "5 2022-08-22             0.151241\n",
      "None\n"
     ]
    },
    {
     "name": "stderr",
     "output_type": "stream",
     "text": [
      "C:\\Users\\LALAECO SUPER GLOBAL\\anaconda3\\lib\\site-packages\\sklearn\\base.py:450: UserWarning: X does not have valid feature names, but LinearRegression was fitted with feature names\n",
      "  warnings.warn(\n",
      "C:\\Users\\LALAECO SUPER GLOBAL\\anaconda3\\lib\\site-packages\\sklearn\\base.py:450: UserWarning: X does not have valid feature names, but LinearRegression was fitted with feature names\n",
      "  warnings.warn(\n",
      "C:\\Users\\LALAECO SUPER GLOBAL\\anaconda3\\lib\\site-packages\\sklearn\\base.py:450: UserWarning: X does not have valid feature names, but LinearRegression was fitted with feature names\n",
      "  warnings.warn(\n",
      "C:\\Users\\LALAECO SUPER GLOBAL\\anaconda3\\lib\\site-packages\\sklearn\\base.py:450: UserWarning: X does not have valid feature names, but LinearRegression was fitted with feature names\n",
      "  warnings.warn(\n",
      "C:\\Users\\LALAECO SUPER GLOBAL\\anaconda3\\lib\\site-packages\\sklearn\\base.py:450: UserWarning: X does not have valid feature names, but LinearRegression was fitted with feature names\n",
      "  warnings.warn(\n",
      "C:\\Users\\LALAECO SUPER GLOBAL\\anaconda3\\lib\\site-packages\\sklearn\\base.py:450: UserWarning: X does not have valid feature names, but LinearRegression was fitted with feature names\n",
      "  warnings.warn(\n",
      "C:\\Users\\LALAECO SUPER GLOBAL\\AppData\\Local\\Temp\\ipykernel_9880\\2568921566.py:59: FutureWarning: The frame.append method is deprecated and will be removed from pandas in a future version. Use pandas.concat instead.\n",
      "  df_plot = df.append(pred_df)\n"
     ]
    },
    {
     "data": {
      "image/png": "[encoded data removed]",
      "text/plain": [
       "<Figure size 432x288 with 1 Axes>"
      ]
     },
     "metadata": {
      "needs_background": "light"
     },
     "output_type": "display_data"
    }
   ],
   "source": [
    "location = 'Choba Junction'\n",
    "area_data = get_area_surveyed(area=location, df=df)\n",
    "lr = linear_reg_(new_df_vals=area_data)\n",
    "pred_vals = pred_linear_reg_(new_df_vals=area_data, start_date='2022-08-17', end_date='2022-08-22')\n",
    "plot_pred(new_df_vals=area_data, pred_df=pred_vals)\n",
    "print(lr)"
   ]
  },
  {
   "cell_type": "code",
   "execution_count": 15,
   "id": "52b46a41",
   "metadata": {},
   "outputs": [],
   "source": [
    "#pred_vals = pred_linear_reg_(new_df_vals=area_data, start_date='2022-08-16', end_date='2022-08-21')"
   ]
  },
  {
   "cell_type": "code",
   "execution_count": 16,
   "id": "688f32ac",
   "metadata": {},
   "outputs": [
    {
     "data": {
      "text/html": [
       "<div>\n",
       "<style scoped>\n",
       "    .dataframe tbody tr th:only-of-type {\n",
       "        vertical-align: middle;\n",
       "    }\n",
       "\n",
       "    .dataframe tbody tr th {\n",
       "        vertical-align: top;\n",
       "    }\n",
       "\n",
       "    .dataframe thead th {\n",
       "        text-align: right;\n",
       "    }\n",
       "</style>\n",
       "<table border=\"1\" class=\"dataframe\">\n",
       "  <thead>\n",
       "    <tr style=\"text-align: right;\">\n",
       "      <th></th>\n",
       "      <th>date</th>\n",
       "      <th>daily_co2_emmission</th>\n",
       "    </tr>\n",
       "  </thead>\n",
       "  <tbody>\n",
       "    <tr>\n",
       "      <th>0</th>\n",
       "      <td>2022-08-17</td>\n",
       "      <td>0.133866</td>\n",
       "    </tr>\n",
       "    <tr>\n",
       "      <th>1</th>\n",
       "      <td>2022-08-18</td>\n",
       "      <td>0.137341</td>\n",
       "    </tr>\n",
       "    <tr>\n",
       "      <th>2</th>\n",
       "      <td>2022-08-19</td>\n",
       "      <td>0.140816</td>\n",
       "    </tr>\n",
       "    <tr>\n",
       "      <th>3</th>\n",
       "      <td>2022-08-20</td>\n",
       "      <td>0.144291</td>\n",
       "    </tr>\n",
       "    <tr>\n",
       "      <th>4</th>\n",
       "      <td>2022-08-21</td>\n",
       "      <td>0.147766</td>\n",
       "    </tr>\n",
       "    <tr>\n",
       "      <th>5</th>\n",
       "      <td>2022-08-22</td>\n",
       "      <td>0.151241</td>\n",
       "    </tr>\n",
       "  </tbody>\n",
       "</table>\n",
       "</div>"
      ],
      "text/plain": [
       "        date  daily_co2_emmission\n",
       "0 2022-08-17             0.133866\n",
       "1 2022-08-18             0.137341\n",
       "2 2022-08-19             0.140816\n",
       "3 2022-08-20             0.144291\n",
       "4 2022-08-21             0.147766\n",
       "5 2022-08-22             0.151241"
      ]
     },
     "execution_count": 16,
     "metadata": {},
     "output_type": "execute_result"
    }
   ],
   "source": [
    "pred_vals"
   ]
  },
  {
   "cell_type": "code",
   "execution_count": 17,
   "id": "158f83d4",
   "metadata": {},
   "outputs": [
    {
     "name": "stderr",
     "output_type": "stream",
     "text": [
      "C:\\Users\\LALAECO SUPER GLOBAL\\AppData\\Local\\Temp\\ipykernel_9880\\2568921566.py:59: FutureWarning: The frame.append method is deprecated and will be removed from pandas in a future version. Use pandas.concat instead.\n",
      "  df_plot = df.append(pred_df)\n"
     ]
    },
    {
     "name": "stdout",
     "output_type": "stream",
     "text": [
      "        date  daily_co2_emmission\n",
      "0 2022-08-17             0.133866\n",
      "1 2022-08-18             0.137341\n",
      "2 2022-08-19             0.140816\n",
      "3 2022-08-20             0.144291\n",
      "4 2022-08-21             0.147766\n",
      "5 2022-08-22             0.151241\n"
     ]
    },
    {
     "data": {
      "image/png": "[encoded data removed]",
      "text/plain": [
       "<Figure size 432x288 with 1 Axes>"
      ]
     },
     "metadata": {
      "needs_background": "light"
     },
     "output_type": "display_data"
    }
   ],
   "source": [
    "plot_pred(new_df_vals=area_data, pred_df=pred_vals)"
   ]
  },
  {
   "cell_type": "code",
   "execution_count": null,
   "id": "0c935615",
   "metadata": {},
   "outputs": [],
   "source": []
  }
 ],
 "metadata": {
  "kernelspec": {
   "display_name": "Python 3 (ipykernel)",
   "language": "python",
   "name": "python3"
  },
  "language_info": {
   "codemirror_mode": {
    "name": "ipython",
    "version": 3
   },
   "file_extension": ".py",
   "mimetype": "text/x-python",
   "name": "python",
   "nbconvert_exporter": "python",
   "pygments_lexer": "ipython3",
   "version": "3.11.4"
  }
 },
 "nbformat": 4,
 "nbformat_minor": 5
}
